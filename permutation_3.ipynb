{
 "cells": [
  {
   "cell_type": "markdown",
   "metadata": {
    "colab_type": "text",
    "id": "Mg_SrIEfcmJ1"
   },
   "source": [
    "# Permütasonyon\n",
    "## Problem:\n",
    "Bir otoparkta 4 farklı renkte araba bulunmaktadır: Kırmızı, Mavi, Yeşil ve Sarı. Bu arabalar otoparkın içinde sıralanacaktır. Ancak, Kırmızı arabaların yan yana olmaması gerekmektedir. Bu kısıtlamaya uygun şekilde arabaların sıralanabileceği kaç farklı düzenleme vardır?\n",
    "\n",
    "## Çözüm:\n",
    "\n",
    "Aşağıda permütasyon hesaplama fonksiyonunu tanımlanmıştır."
   ]
  },
  {
   "cell_type": "code",
   "execution_count": 2,
   "metadata": {
    "colab": {
     "base_uri": "https://localhost:8080/",
     "height": 54
    },
    "colab_type": "code",
    "id": "eQm7mLq-X2_k",
    "outputId": "a7f530dc-9948-4d1f-dddc-a3b20ed4c346"
   },
   "outputs": [],
   "source": [
    "def permute(lst):\n",
    "    if len(lst) <= 1:\n",
    "        return [lst]\n",
    "\n",
    "    permutations = []\n",
    "\n",
    "    for i in range(len(lst)):\n",
    "        current = lst[i]\n",
    "        remaining_list = lst[:i] + lst[i+1:]\n",
    "        for p in permute(remaining_list):\n",
    "            permutations.append([current] + p)\n",
    "\n",
    "    return permutations"
   ]
  },
  {
   "cell_type": "markdown",
   "metadata": {},
   "source": [
    "Kırmızı arabaların yan yana olmadığı permütasyonları filtrelemek için fonksiyon."
   ]
  },
  {
   "cell_type": "code",
   "execution_count": 3,
   "metadata": {
    "colab": {},
    "colab_type": "code",
    "id": "OymURP1vdKsT"
   },
   "outputs": [],
   "source": [
    "def filter_permutations(perm_list):\n",
    "    for perm in perm_list:\n",
    "        for i in range(len(perm) - 1):\n",
    "            if perm[i] == 'Kırmızı' and perm[i + 1] == 'Kırmızı':\n",
    "                return False\n",
    "    return True\n"
   ]
  },
  {
   "cell_type": "code",
   "execution_count": null,
   "metadata": {},
   "outputs": [],
   "source": [
    "Verilen renklere göre örnek sıralamalar yazdırılmıştır."
   ]
  },
  {
   "cell_type": "code",
   "execution_count": null,
   "metadata": {},
   "outputs": [],
   "source": [
    "cars = ['Kırmızı', 'Mavi', 'Yeşil', 'Sarı']\n",
    "\n",
    "all_permutations = permute(cars)\n",
    "\n",
    "valid_permutations = [perm for perm in all_permutations if filter_permutations(perm)]\n",
    "\n",
    "print(f'Toplam geçerli düzenleme sayısı: {len(valid_permutations)}')\n",
    "print('Örnek düzenlemeler:')\n",
    "for perm in valid_permutations[:5]:  # İlk 5 geçerli düzenlemeyi örnek olarak göster\n",
    "    print(perm)"
   ]
  }
 ],
 "metadata": {
  "colab": {
   "include_colab_link": true,
   "name": "pigeonhole.ipynb",
   "provenance": [],
   "version": "0.3.2"
  },
  "kernelspec": {
   "display_name": "Python 3 (ipykernel)",
   "language": "python",
   "name": "python3"
  },
  "language_info": {
   "codemirror_mode": {
    "name": "ipython",
    "version": 3
   },
   "file_extension": ".py",
   "mimetype": "text/x-python",
   "name": "python",
   "nbconvert_exporter": "python",
   "pygments_lexer": "ipython3",
   "version": "3.10.2"
  }
 },
 "nbformat": 4,
 "nbformat_minor": 4
}
