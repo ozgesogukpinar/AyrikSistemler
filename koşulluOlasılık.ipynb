{
 "cells": [
  {
   "cell_type": "markdown",
   "id": "e0120d12-1968-47d7-a760-4cdcbf7fa07a",
   "metadata": {},
   "source": [
    "Problem:"
   ]
  },
  {
   "cell_type": "markdown",
   "id": "227e781f-c6e7-4b10-a3f8-2f08cbd1f2f3",
   "metadata": {},
   "source": [
    "İki zar atılıyor. İlk zarın 6 gelmesi koşuluyla, ikinci zarın 4 veya daha küçük bir sayı gelme olasılığı nedir?"
   ]
  },
  {
   "cell_type": "markdown",
   "id": "78f70a59-abe7-4afa-93ae-e7220754ca7a",
   "metadata": {},
   "source": [
    "Çözüm:"
   ]
  },
  {
   "cell_type": "markdown",
   "id": "a27be6cb-a29c-46bf-b5a8-3ada9f13db49",
   "metadata": {},
   "source": [
    "İlk zarın 6 gelme olasılığı:\n",
    "\n",
    "Zardaki olası sonuçlar: 1, 2, 3, 4, 5, 6 P(6) = 1/6 İlk zarın 6 olduğunu bildiğimizde, ikinci zarın 4 veya daha küçük bir sayı gelme olasılığı:\n",
    "\n",
    "İkinci zarın olası sonuçları: 1, 2, 3, 4, 5, 6 4 veya daha küçük bir sayı gelme olasılığı: 4/6 = 2/3"
   ]
  },
  {
   "cell_type": "markdown",
   "id": "e0f50e13-c92d-4efe-8dfa-0afbf2426387",
   "metadata": {},
   "source": [
    "Aşağıdaki fonksiyon, bir zar atarak 1 ile 6 arasında rastgele bir sayı döner."
   ]
  },
  {
   "cell_type": "code",
   "execution_count": 3,
   "id": "9f79b035-c8c9-4b69-8921-9609d96effcf",
   "metadata": {},
   "outputs": [],
   "source": [
    "import random\n",
    "\n",
    "def roll_die():\n",
    "    return random.randint(1, 6)"
   ]
  },
  {
   "cell_type": "markdown",
   "id": "37cd94a7-57dd-489d-aed9-b116c9f81e0f",
   "metadata": {},
   "source": [
    "\"six_first_and_four_or_less_second\": İlk zarın 6 olduğu ve ikinci zarın 4 veya daha küçük olduğu denemelerin sayısını tutar.\n",
    "\"six_first\": İlk zarın 6 olduğu denemelerin sayısını tutar.\n",
    "Simülasyon \"trials\" sayısı kadar tekrarlanır. Her denemede:\n",
    "\n",
    "İlk zar atılır. Eğer 6 gelirse, \"six_first\" artırılır.\n",
    "İlk zar 6 gelirse, ikinci zar atılır ve bu zarın sonucu 4 veya daha küçükse, \"six_first_and_four_or_less_second\" artırılır.\n",
    "Son olarak, \"six_first\" sıfırdan büyükse, \"six_first_and_four_or_less_second / six_first\" ile koşullu olasılık hesaplanır."
   ]
  },
  {
   "cell_type": "code",
   "execution_count": 5,
   "id": "939acb7d-fc41-455b-b2db-85dae2d320dc",
   "metadata": {},
   "outputs": [],
   "source": [
    "def conditional_probability_simulation(trials):\n",
    "    six_first_and_four_or_less_second = 0\n",
    "    six_first = 0\n",
    "\n",
    "    for _ in range(trials):\n",
    "        # İlk zar atılır\n",
    "        first_die = roll_die()\n",
    "        if first_die == 6:\n",
    "            six_first += 1\n",
    "            # İlk zar 6 ise ikinci zar atılır\n",
    "            second_die = roll_die()\n",
    "            if second_die <= 4:\n",
    "                six_first_and_four_or_less_second += 1\n",
    "\n",
    "    # İlk zarın 6 olduğu durumlarda ikinci zarın 4 veya daha küçük olma olasılığını hesapla\n",
    "    return six_first_and_four_or_less_second / six_first if six_first > 0 else 0"
   ]
  },
  {
   "cell_type": "markdown",
   "id": "6db9eecb-9904-4469-9c5d-96b5705a19c3",
   "metadata": {},
   "source": [
    "\"trials\" değişkeni ile kaç deneme yapılacağı belirlenir (bu örnekte 100,000). \n",
    "\"conditional_probability_simulation(trials)\" fonksiyonu çağrılarak simülasyon gerçekleştirilir ve sonuç ekrana yazdırılır."
   ]
  },
  {
   "cell_type": "code",
   "execution_count": null,
   "id": "9c3cb763-1d75-4335-b425-117449b5a282",
   "metadata": {},
   "outputs": [],
   "source": [
    "# Simülasyon için deneme sayısı\n",
    "trials = 100000\n",
    "probability = conditional_probability_simulation(trials)\n",
    "print(f\"İlk zarın 6 gelmesi koşuluyla ikinci zarın 4 veya daha küçük gelme olasılığı yaklaşık olarak: {probability:.4f}\")"
   ]
  }
 ],
 "metadata": {
  "kernelspec": {
   "display_name": "Python 3 (ipykernel)",
   "language": "python",
   "name": "python3"
  },
  "language_info": {
   "codemirror_mode": {
    "name": "ipython",
    "version": 3
   },
   "file_extension": ".py",
   "mimetype": "text/x-python",
   "name": "python",
   "nbconvert_exporter": "python",
   "pygments_lexer": "ipython3",
   "version": "3.10.2"
  }
 },
 "nbformat": 4,
 "nbformat_minor": 5
}
