{
 "cells": [
  {
   "cell_type": "markdown",
   "metadata": {
    "colab_type": "text",
    "id": "Mg_SrIEfcmJ1"
   },
   "source": [
    "# Pigeonhole Principle\n",
    "## Problem:\n",
    "Bir sınıfta 40 öğrenci bulunmaktadır ve her bir öğrenci en az bir dil bilmektedir. Öğrencilerin bildiği diller arasında Türkçe, İngilizce ve Almanca bulunmaktadır. En az kaç öğrencinin aynı dili bildiğini gösteren bir program yazarak, bu durumun Güvercin Yuvası Prensibi ile ispatlanması.\n",
    "\n",
    "## Çözüm:\n",
    "\n",
    "Aşağıda rastgele olarak her öğrencinin bildiği dilleri belirleyen bir program yazılmıştır. Bu program, her öğrenci için Türkçe, İngilizce veya Almanca dillerinden birini rastgele seçmek çin kullanılacaktır."
   ]
  },
  {
   "cell_type": "code",
   "execution_count": 5,
   "metadata": {
    "colab": {
     "base_uri": "https://localhost:8080/",
     "height": 54
    },
    "colab_type": "code",
    "id": "eQm7mLq-X2_k",
    "outputId": "a7f530dc-9948-4d1f-dddc-a3b20ed4c346"
   },
   "outputs": [
    {
     "name": "stdout",
     "output_type": "stream",
     "text": [
      "['Türkçe', 'İngilizce', 'Almanca', 'Türkçe', 'İngilizce', 'Almanca', 'Türkçe', 'Türkçe', 'Almanca', 'Almanca', 'İngilizce', 'Almanca', 'Türkçe', 'İngilizce', 'İngilizce', 'Almanca', 'Almanca', 'Türkçe', 'İngilizce', 'Türkçe', 'Almanca', 'Türkçe', 'Almanca', 'Türkçe', 'Almanca', 'Almanca', 'Almanca', 'Almanca', 'Türkçe', 'Türkçe', 'İngilizce', 'Almanca', 'Almanca', 'Almanca', 'Türkçe', 'İngilizce', 'İngilizce', 'İngilizce', 'Türkçe', 'Almanca']\n"
     ]
    }
   ],
   "source": [
    "import random\n",
    "\n",
    "# Sınıftaki öğrencilerin dillerini belirleyen bir program\n",
    "def dil_sec():\n",
    "    diller = ['Türkçe', 'İngilizce', 'Almanca']\n",
    "    return random.choice(diller)\n",
    "\n",
    "# 40 öğrencinin bildiği dilleri belirle\n",
    "ogrenciler = [dil_sec() for _ in range(40)]\n",
    "\n",
    "print(ogrenciler)"
   ]
  },
  {
   "cell_type": "markdown",
   "metadata": {
    "colab_type": "text",
    "id": "ata3TLjyc6Xn"
   },
   "source": [
    "Bu adımda, her bir öğrencinin bildiği dili rastgele seçmek için dil_sec() adında bir fonksiyon tanımlandı. Bu fonksiyon, random.choice() işlevini kullanarak diller listesinden rastgele bir dil seçiyor. Ardından, 40 öğrencinin bildiği diller ogrenciler listesine ekleniyor ve ekrana yazdırılıyor."
   ]
  },
  {
   "cell_type": "markdown",
   "metadata": {},
   "source": [
    "Aşağıda Güvercin Yuvası Prensibi'ni kullanarak, en az kaç öğrencinin aynı dili bildiğini hesaplayan bir program yazılmıştır."
   ]
  },
  {
   "cell_type": "code",
   "execution_count": 6,
   "metadata": {
    "colab": {},
    "colab_type": "code",
    "id": "OymURP1vdKsT"
   },
   "outputs": [
    {
     "name": "stdout",
     "output_type": "stream",
     "text": [
      "En az 10 öğrenci aynı dili bilmektedir.\n"
     ]
    }
   ],
   "source": [
    "# Güvercin Yuvası Prensibi'ni kullanarak en az kaç öğrencinin aynı dili bildiğini hesaplar\n",
    "def en_az_ayni_dil(ogrenciler):\n",
    "    dil_sayisi = {'Türkçe': 0, 'İngilizce': 0, 'Almanca': 0}\n",
    "    \n",
    "    for dil in ogrenciler:\n",
    "        dil_sayisi[dil] += 1\n",
    "    \n",
    "    return min(dil_sayisi.values())\n",
    "\n",
    "# En az kaç öğrencinin aynı dili bildiğini hesapla\n",
    "minimum_ogrenci_sayisi = en_az_ayni_dil(ogrenciler)\n",
    "\n",
    "print(\"En az\", minimum_ogrenci_sayisi, \"öğrenci aynı dili bilmektedir.\")\n"
   ]
  },
  {
   "cell_type": "markdown",
   "metadata": {
    "colab_type": "text",
    "id": "OpRD5Ll4dEnw"
   },
   "source": [
    "Bu adımda, en_az_ayni_dil() adında bir fonksiyon tanımlandı. Bu fonksiyon, her bir dilin kaç öğrenci tarafından bilindiğini hesaplamak için bir sözlük kullanmaktadır. Daha sonra, bu sözlüğün değerlerinden en küçüğünü döndürerek, en az kaç öğrencinin aynı dili bildiği bulunur.\r\n",
    "\r\n",
    "Bu adımlarla, verilen sınıftaki öğrencilerin dillerini rastgele belirleyen bir program yıldıık ve Güvercin Yuvası Prensibi'ni kullanarak en az kaç öğrencinin aynı dili bildini hesapnlaık."
   ]
  },
  {
   "cell_type": "code",
   "execution_count": null,
   "metadata": {},
   "outputs": [],
   "source": []
  }
 ],
 "metadata": {
  "colab": {
   "include_colab_link": true,
   "name": "pigeonhole.ipynb",
   "provenance": [],
   "version": "0.3.2"
  },
  "kernelspec": {
   "display_name": "Python 3 (ipykernel)",
   "language": "python",
   "name": "python3"
  },
  "language_info": {
   "codemirror_mode": {
    "name": "ipython",
    "version": 3
   },
   "file_extension": ".py",
   "mimetype": "text/x-python",
   "name": "python",
   "nbconvert_exporter": "python",
   "pygments_lexer": "ipython3",
   "version": "3.10.2"
  }
 },
 "nbformat": 4,
 "nbformat_minor": 4
}
