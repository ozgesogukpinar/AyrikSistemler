{
 "cells": [
  {
   "cell_type": "markdown",
   "metadata": {
    "colab_type": "text",
    "id": "Mg_SrIEfcmJ1"
   },
   "source": [
    "# Kombinasyon\n",
    "## Problem:\n",
    "Bir film festivalinde 4 farklı film gösterilecektir: Drama, Komedi, Aksiyon ve Bilim Kurgu. Bir katılımcı, bu filmlerden 2 tanesini izlemek istiyor. Katılımcının seçebileceği farklı film kombinasyonları kaç farklı şekilde olabilir\n",
    "\n",
    "## Çözüm:\n",
    "\n",
    "Aşağıda kombinasyon hesaplama fonksiyonunu tanımlanmıştır."
   ]
  },
  {
   "cell_type": "code",
   "execution_count": 1,
   "metadata": {
    "colab": {
     "base_uri": "https://localhost:8080/",
     "height": 54
    },
    "colab_type": "code",
    "id": "eQm7mLq-X2_k",
    "outputId": "a7f530dc-9948-4d1f-dddc-a3b20ed4c346"
   },
   "outputs": [],
   "source": [
    "def combine(lst, k):\n",
    "    # Kombinasyonların sayısı k'dan büyük olmalıdır.\n",
    "    if k > len(lst):\n",
    "        return []\n",
    "\n",
    "    # Eğer k 1 ise, her elemanı tek başına bir liste olarak döndür.\n",
    "    if k == 1:\n",
    "        return [[i] for i in lst]\n",
    "\n",
    "    # Eğer k listesinin uzunluğuna eşitse, tüm listeyi bir kombinasyon olarak döndür.\n",
    "    if k == len(lst):\n",
    "        return [lst]\n",
    "\n",
    "    combinations = []\n",
    "\n",
    "    for i in range(len(lst)):\n",
    "        for next_comb in combine(lst[i+1:], k-1):\n",
    "            combinations.append([lst[i]] + next_comb)\n",
    "\n",
    "    return combinations"
   ]
  },
  {
   "cell_type": "markdown",
   "metadata": {},
   "source": [
    "Film festivalinde gösterilecek 4 farklı filmi temsil eden bir liste kullanılmıştır. Katılımcının seçebileceği 2' li film kombinasyonları hesaplanır ve bu kombinasyonların toplam sayısını ve her bir kombinasyonun listesini yazdırır."
   ]
  },
  {
   "cell_type": "code",
   "execution_count": 2,
   "metadata": {
    "colab": {},
    "colab_type": "code",
    "id": "OymURP1vdKsT"
   },
   "outputs": [
    {
     "name": "stdout",
     "output_type": "stream",
     "text": [
      "Toplam kombinasyon sayısı: 6\n",
      "['Drama', 'Komedi']\n",
      "['Drama', 'Aksiyon']\n",
      "['Drama', 'Bilim Kurgu']\n",
      "['Komedi', 'Aksiyon']\n",
      "['Komedi', 'Bilim Kurgu']\n",
      "['Aksiyon', 'Bilim Kurgu']\n"
     ]
    }
   ],
   "source": [
    "movies = ['Drama', 'Komedi', 'Aksiyon', 'Bilim Kurgu']\n",
    "\n",
    "# kombinasyon hesapla\n",
    "combinations = combine(movies, 2)\n",
    "\n",
    "# Sonuçları yazdır\n",
    "print(f'Toplam kombinasyon sayısı: {len(combinations)}')\n",
    "for comb in combinations:\n",
    "    print(comb)\n"
   ]
  }
 ],
 "metadata": {
  "colab": {
   "include_colab_link": true,
   "name": "pigeonhole.ipynb",
   "provenance": [],
   "version": "0.3.2"
  },
  "kernelspec": {
   "display_name": "Python 3 (ipykernel)",
   "language": "python",
   "name": "python3"
  },
  "language_info": {
   "codemirror_mode": {
    "name": "ipython",
    "version": 3
   },
   "file_extension": ".py",
   "mimetype": "text/x-python",
   "name": "python",
   "nbconvert_exporter": "python",
   "pygments_lexer": "ipython3",
   "version": "3.10.2"
  }
 },
 "nbformat": 4,
 "nbformat_minor": 4
}
